{
 "cells": [
  {
   "cell_type": "markdown",
   "metadata": {},
   "source": [
    "# Exploratory Data Analysis and Visualization"
   ]
  },
  {
   "cell_type": "markdown",
   "metadata": {},
   "source": [
    "## Objective"
   ]
  },
  {
   "cell_type": "markdown",
   "metadata": {},
   "source": [
    "The objective in this notebook is as follows: \n",
    "1. Load the notebook from the web\n",
    "2. Clean and wrangle the data into a tidy format\n",
    "3. Propose a visualization that is relevant to addressing the question and to explore the data.\n",
    "    * propose a high quality plot or set of plots of the same kind\n",
    "    * explain why it is relevant in addressing the question or exploring the data"
   ]
  },
  {
   "cell_type": "code",
   "execution_count": 2,
   "metadata": {
    "editable": true,
    "slideshow": {
     "slide_type": ""
    },
    "tags": [],
    "vscode": {
     "languageId": "r"
    }
   },
   "outputs": [
    {
     "name": "stderr",
     "output_type": "stream",
     "text": [
      "── \u001b[1mAttaching core tidyverse packages\u001b[22m ──────────────────────── tidyverse 2.0.0 ──\n",
      "\u001b[32m✔\u001b[39m \u001b[34mdplyr    \u001b[39m 1.1.2     \u001b[32m✔\u001b[39m \u001b[34mreadr    \u001b[39m 2.1.4\n",
      "\u001b[32m✔\u001b[39m \u001b[34mforcats  \u001b[39m 1.0.0     \u001b[32m✔\u001b[39m \u001b[34mstringr  \u001b[39m 1.5.0\n",
      "\u001b[32m✔\u001b[39m \u001b[34mggplot2  \u001b[39m 3.4.2     \u001b[32m✔\u001b[39m \u001b[34mtibble   \u001b[39m 3.2.1\n",
      "\u001b[32m✔\u001b[39m \u001b[34mlubridate\u001b[39m 1.9.2     \u001b[32m✔\u001b[39m \u001b[34mtidyr    \u001b[39m 1.3.0\n",
      "\u001b[32m✔\u001b[39m \u001b[34mpurrr    \u001b[39m 1.0.1     \n",
      "── \u001b[1mConflicts\u001b[22m ────────────────────────────────────────── tidyverse_conflicts() ──\n",
      "\u001b[31m✖\u001b[39m \u001b[34mdplyr\u001b[39m::\u001b[32mfilter()\u001b[39m masks \u001b[34mstats\u001b[39m::filter()\n",
      "\u001b[31m✖\u001b[39m \u001b[34mdplyr\u001b[39m::\u001b[32mlag()\u001b[39m    masks \u001b[34mstats\u001b[39m::lag()\n",
      "\u001b[36mℹ\u001b[39m Use the conflicted package (\u001b[3m\u001b[34m<http://conflicted.r-lib.org/>\u001b[39m\u001b[23m) to force all conflicts to become errors\n"
     ]
    }
   ],
   "source": [
    "library(tidyverse)"
   ]
  },
  {
   "cell_type": "code",
   "execution_count": 3,
   "metadata": {
    "editable": true,
    "slideshow": {
     "slide_type": ""
    },
    "tags": [],
    "vscode": {
     "languageId": "r"
    }
   },
   "outputs": [
    {
     "name": "stderr",
     "output_type": "stream",
     "text": [
      "\u001b[1mRows: \u001b[22m\u001b[34m32561\u001b[39m \u001b[1mColumns: \u001b[22m\u001b[34m15\u001b[39m\n",
      "\u001b[36m──\u001b[39m \u001b[1mColumn specification\u001b[22m \u001b[36m────────────────────────────────────────────────────────\u001b[39m\n",
      "\u001b[1mDelimiter:\u001b[22m \",\"\n",
      "\u001b[31mchr\u001b[39m (9): X2, X4, X6, X7, X8, X9, X10, X14, X15\n",
      "\u001b[32mdbl\u001b[39m (6): X1, X3, X5, X11, X12, X13\n",
      "\n",
      "\u001b[36mℹ\u001b[39m Use `spec()` to retrieve the full column specification for this data.\n",
      "\u001b[36mℹ\u001b[39m Specify the column types or set `show_col_types = FALSE` to quiet this message.\n",
      "\u001b[1mRows: \u001b[22m\u001b[34m16281\u001b[39m \u001b[1mColumns: \u001b[22m\u001b[34m15\u001b[39m\n",
      "\u001b[36m──\u001b[39m \u001b[1mColumn specification\u001b[22m \u001b[36m────────────────────────────────────────────────────────\u001b[39m\n",
      "\u001b[1mDelimiter:\u001b[22m \",\"\n",
      "\u001b[31mchr\u001b[39m (9): X2, X4, X6, X7, X8, X9, X10, X14, X15\n",
      "\u001b[32mdbl\u001b[39m (6): X1, X3, X5, X11, X12, X13\n",
      "\n",
      "\u001b[36mℹ\u001b[39m Use `spec()` to retrieve the full column specification for this data.\n",
      "\u001b[36mℹ\u001b[39m Specify the column types or set `show_col_types = FALSE` to quiet this message.\n"
     ]
    }
   ],
   "source": [
    "# >>> Define paths to repository and data folder <<< #\n",
    "repo_path  <- \"https://raw.githubusercontent.com/fuminaba/STAT-301\"\n",
    "data_parent_path <- \"/fuminaba-project/Data\"\n",
    "\n",
    "# >>> Load Training and Testing Data <<< #\n",
    "data.train <- paste0(repo_path, data_parent_path, \"/adult.data\")  %>% \n",
    "    read_csv(col_names = F)\n",
    "data.test  <- paste0(repo_path, data_parent_path, '/adult.test') %>% \n",
    "    read_csv(col_names = F, skip = 1)\n",
    "\n",
    "# >>> Define feature names and rename columns <<< #\n",
    "feature_names <- c('age', 'workclass', 'fnlwgt', 'education',\n",
    "                   'education-num', 'marital-status', 'occupation',\n",
    "                   'relationship', 'race', 'sex', 'capital-gain', \n",
    "                   'capital-loss', 'hours-per-week', 'native-country',\n",
    "                   'income')\n",
    "\n",
    "names(data.train) <- feature_names\n",
    "names(data.test) <- feature_names\n",
    "\n",
    "# >>> For EDA, we will combine train and test data <<< #\n",
    "data.all <- rbind(data.train, data.test)"
   ]
  },
  {
   "cell_type": "code",
   "execution_count": 3,
   "metadata": {
    "editable": true,
    "slideshow": {
     "slide_type": ""
    },
    "tags": [
     "remove-output"
    ],
    "vscode": {
     "languageId": "r"
    }
   },
   "outputs": [
    {
     "name": "stderr",
     "output_type": "stream",
     "text": [
      "\n",
      "\n",
      "processing file: report.rmd\n",
      "\n",
      "output file: D:/Fumi/STAT-301/2-EDA-and-Visualization/report.knit.md\n",
      "\n",
      "\n",
      "\n",
      "Output created: D:/Fumi/STAT-301/2-EDA-and-Visualization/report.html\n",
      "\n"
     ]
    }
   ],
   "source": [
    "invisible(capture.output(DataExplorer::create_report(data = data.all)))"
   ]
  },
  {
   "cell_type": "markdown",
   "metadata": {
    "editable": true,
    "slideshow": {
     "slide_type": ""
    },
    "tags": [],
    "vscode": {
     "languageId": "r"
    }
   },
   "source": [
    "## Exploratory Data Analysis"
   ]
  },
  {
   "cell_type": "markdown",
   "metadata": {},
   "source": [
    "The data of interest is the [`adult`](https://archive.ics.uci.edu/dataset/2/adult) dataset, a census dataset of 14 explanatory variables and one predicted variable of `income`, a binary variable which describes if a person makes less than or equal to $50k, (`income` = 0) or more than $50k (`income` = 1). The objective of this dataset is to predict whether an individual in the United States makes more than $50k per year based on the explanatory features measured in the census described below. "
   ]
  },
  {
   "cell_type": "markdown",
   "metadata": {},
   "source": [
    "| Variable Name | Description | Type of Variable | \n",
    "| --- | --- | --- | \n",
    "| `age` | Age of individual | Feature, Integer | \n",
    "| `workclass` | Categorical variable describing individuals' working class | Feature, Categorical | \n",
    "| `fnlwgt` | Unknown | Feature, Integer | \n",
    "| `education` | Describes the education level of an individual | Feature, Categorical | \n",
    "| `education-num` | Numerical description of education level | Feature, Integer | \n",
    "| `marital-status` | Married, not-married etc. of the individual | Feature, Categorical | \n",
    "| `occupation` | General description of individuals' job | Feature, Categorical | \n",
    "| `relationship` | Relationship status of individual | Feature, Categorical | \n",
    "| `race` | Race of individual | Feature, Categorical | \n",
    "| `sex` | Sex of individual | Feature, Categorical | \n",
    "| `capital-gain` | Capital gain of individual | Feature, Integer | \n",
    "| `capital-loss` | Capital loss of an individual | Feature, Integer | \n",
    "| `hours-per-week` | Hours worked per week | Feature, Integer | \n",
    "| `native-country` | Native country of individual | Feature, Categorical | \n",
    "| `income` | Binary >50K or <=50K income | Target, Categorical | "
   ]
  },
  {
   "cell_type": "markdown",
   "metadata": {},
   "source": [
    "For a prediction problem such as this one, plotting variable distributions stratified by their outcome class often provides insight into which variables are discriminatory of the target class. This dataset contains redundancies where some variables have both a numeric and categorical representation. (Such as `education` and `education-num`.) Thus when plotting distributions stratified by target class, we can plot the numeric representation. \n",
    "\n",
    "First, we will observe the factor levels in the target variable."
   ]
  },
  {
   "cell_type": "code",
   "execution_count": 22,
   "metadata": {
    "vscode": {
     "languageId": "r"
    }
   },
   "outputs": [
    {
     "data": {
      "text/html": [
       "<style>\n",
       ".list-inline {list-style: none; margin:0; padding: 0}\n",
       ".list-inline>li {display: inline-block}\n",
       ".list-inline>li:not(:last-child)::after {content: \"\\00b7\"; padding: 0 .5ex}\n",
       "</style>\n",
       "<ol class=list-inline><li>'&lt;=50K'</li><li>'&gt;50K'</li><li>'&lt;=50K.'</li><li>'&gt;50K.'</li></ol>\n"
      ],
      "text/latex": [
       "\\begin{enumerate*}\n",
       "\\item '<=50K'\n",
       "\\item '>50K'\n",
       "\\item '<=50K.'\n",
       "\\item '>50K.'\n",
       "\\end{enumerate*}\n"
      ],
      "text/markdown": [
       "1. '&lt;=50K'\n",
       "2. '&gt;50K'\n",
       "3. '&lt;=50K.'\n",
       "4. '&gt;50K.'\n",
       "\n",
       "\n"
      ],
      "text/plain": [
       "[1] \"<=50K\"  \">50K\"   \"<=50K.\" \">50K.\" "
      ]
     },
     "metadata": {},
     "output_type": "display_data"
    }
   ],
   "source": [
    "data.all$income %>% as_factor() %>% levels(.)"
   ]
  },
  {
   "cell_type": "markdown",
   "metadata": {},
   "source": [
    "We see that there are four levels when we only expect two. The difference is that there is a '.' at the end of `<=50K` and `>50K`. However, in reality this does not make a difference in the predicted classes, thus we need to process this feature to remove the '.'. "
   ]
  },
  {
   "cell_type": "code",
   "execution_count": 35,
   "metadata": {
    "vscode": {
     "languageId": "r"
    }
   },
   "outputs": [
    {
     "data": {
      "text/html": [
       "<style>\n",
       ".list-inline {list-style: none; margin:0; padding: 0}\n",
       ".list-inline>li {display: inline-block}\n",
       ".list-inline>li:not(:last-child)::after {content: \"\\00b7\"; padding: 0 .5ex}\n",
       "</style>\n",
       "<ol class=list-inline><li>'&lt;=50K'</li><li>'&gt;50K'</li></ol>\n"
      ],
      "text/latex": [
       "\\begin{enumerate*}\n",
       "\\item '<=50K'\n",
       "\\item '>50K'\n",
       "\\end{enumerate*}\n"
      ],
      "text/markdown": [
       "1. '&lt;=50K'\n",
       "2. '&gt;50K'\n",
       "\n",
       "\n"
      ],
      "text/plain": [
       "[1] \"<=50K\" \">50K\" "
      ]
     },
     "metadata": {},
     "output_type": "display_data"
    }
   ],
   "source": [
    "data.all$income <- data.all$income %>% str_remove('[*.]')\n",
    "data.all <- data.all %>% \n",
    "    mutate(income = as_factor((income)))\n",
    "\n",
    "data.all$income %>% as_factor() %>% levels(.)"
   ]
  },
  {
   "cell_type": "markdown",
   "metadata": {},
   "source": [
    "We have effectively fixed this problem. Now, we can generate a simple plot to visualize the distribution of `age` between the two `income` classes."
   ]
  },
  {
   "cell_type": "code",
   "execution_count": 34,
   "metadata": {
    "vscode": {
     "languageId": "r"
    }
   },
   "outputs": [
    {
     "data": {
      "image/png": "[encoded data removed]",
      "text/plain": [
       "plot without title"
      ]
     },
     "metadata": {
      "image/png": {
       "height": 420,
       "width": 420
      }
     },
     "output_type": "display_data"
    }
   ],
   "source": [
    "distribution.plot <- data.all %>% \n",
    "    ggplot(aes(x = income, y = age, fill = income)) + \n",
    "        geom_boxplot(width = 0.2) +\n",
    "        geom_violin(aes(alpha = 0.2)) +\n",
    "        labs(\n",
    "            title = \"Distribution of Age Between Income Classes\",\n",
    "            x = 'Income Class',\n",
    "            y = 'Age') + \n",
    "        theme_bw() +\n",
    "        theme(panel.grid.major = element_blank(),\n",
    "              panel.grid.minor = element_blank())\n",
    "\n",
    "distribution.plot"
   ]
  },
  {
   "cell_type": "markdown",
   "metadata": {},
   "source": [
    "From the above plot alone, we learn that the distribution of `age` within the two income classes are different - the distribution for people that make less than $50,000 is a skewed distribution with majority of people in early 20s, whereas the people making more than $50,000 annually are more normally distributed."
   ]
  }
 ],
 "metadata": {
  "kernelspec": {
   "display_name": "R",
   "language": "R",
   "name": "ir"
  },
  "language_info": {
   "codemirror_mode": "r",
   "file_extension": ".r",
   "mimetype": "text/x-r-source",
   "name": "R",
   "pygments_lexer": "r",
   "version": "4.2.3"
  }
 },
 "nbformat": 4,
 "nbformat_minor": 4
}
