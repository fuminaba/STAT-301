{
 "cells": [
  {
   "cell_type": "markdown",
   "metadata": {},
   "source": [
    "# Exploratory Data Analysis and Visualization"
   ]
  },
  {
   "cell_type": "markdown",
   "metadata": {},
   "source": [
    "## Objective"
   ]
  },
  {
   "cell_type": "markdown",
   "metadata": {},
   "source": [
    "The objective in this notebook is as follows: \n",
    "1. Load the notebook from the web\n",
    "2. Clean and wrangle the data into a tidy format\n",
    "3. Propose a visualization that is relevant to addressing the question and to explore the data.\n",
    "    * propose a high quality plot or set of plots of the same kind\n",
    "    * explain why it is relevant in addressing the question or exploring the data"
   ]
  },
  {
   "cell_type": "code",
   "execution_count": 1,
   "metadata": {
    "editable": true,
    "slideshow": {
     "slide_type": ""
    },
    "tags": [],
    "vscode": {
     "languageId": "r"
    }
   },
   "outputs": [
    {
     "name": "stderr",
     "output_type": "stream",
     "text": [
      "── \u001b[1mAttaching core tidyverse packages\u001b[22m ──────────────────────────────────────────────────────────────── tidyverse 2.0.0 ──\n",
      "\u001b[32m✔\u001b[39m \u001b[34mdplyr    \u001b[39m 1.1.3     \u001b[32m✔\u001b[39m \u001b[34mreadr    \u001b[39m 2.1.4\n",
      "\u001b[32m✔\u001b[39m \u001b[34mforcats  \u001b[39m 1.0.0     \u001b[32m✔\u001b[39m \u001b[34mstringr  \u001b[39m 1.5.0\n",
      "\u001b[32m✔\u001b[39m \u001b[34mggplot2  \u001b[39m 3.4.4     \u001b[32m✔\u001b[39m \u001b[34mtibble   \u001b[39m 3.2.1\n",
      "\u001b[32m✔\u001b[39m \u001b[34mlubridate\u001b[39m 1.9.3     \u001b[32m✔\u001b[39m \u001b[34mtidyr    \u001b[39m 1.3.0\n",
      "\u001b[32m✔\u001b[39m \u001b[34mpurrr    \u001b[39m 1.0.2     \n",
      "── \u001b[1mConflicts\u001b[22m ────────────────────────────────────────────────────────────────────────────────── tidyverse_conflicts() ──\n",
      "\u001b[31m✖\u001b[39m \u001b[34mdplyr\u001b[39m::\u001b[32mfilter()\u001b[39m masks \u001b[34mstats\u001b[39m::filter()\n",
      "\u001b[31m✖\u001b[39m \u001b[34mdplyr\u001b[39m::\u001b[32mlag()\u001b[39m    masks \u001b[34mstats\u001b[39m::lag()\n",
      "\u001b[36mℹ\u001b[39m Use the conflicted package (\u001b[3m\u001b[34m<http://conflicted.r-lib.org/>\u001b[39m\u001b[23m) to force all conflicts to become errors\n"
     ]
    }
   ],
   "source": [
    "# >>> Load Dependencies <<< #\n",
    "library(tidyverse)"
   ]
  },
  {
   "cell_type": "code",
   "execution_count": 2,
   "metadata": {
    "editable": true,
    "slideshow": {
     "slide_type": ""
    },
    "tags": [
     "no_output"
    ],
    "vscode": {
     "languageId": "r"
    }
   },
   "outputs": [
    {
     "name": "stderr",
     "output_type": "stream",
     "text": [
      "\u001b[1mRows: \u001b[22m\u001b[34m32561\u001b[39m \u001b[1mColumns: \u001b[22m\u001b[34m15\u001b[39m\n",
      "\u001b[36m──\u001b[39m \u001b[1mColumn specification\u001b[22m \u001b[36m────────────────────────────────────────────────────────────────────────────────────────────────\u001b[39m\n",
      "\u001b[1mDelimiter:\u001b[22m \",\"\n",
      "\u001b[31mchr\u001b[39m (9): X2, X4, X6, X7, X8, X9, X10, X14, X15\n",
      "\u001b[32mdbl\u001b[39m (6): X1, X3, X5, X11, X12, X13\n",
      "\n",
      "\u001b[36mℹ\u001b[39m Use `spec()` to retrieve the full column specification for this data.\n",
      "\u001b[36mℹ\u001b[39m Specify the column types or set `show_col_types = FALSE` to quiet this message.\n",
      "\u001b[1mRows: \u001b[22m\u001b[34m16281\u001b[39m \u001b[1mColumns: \u001b[22m\u001b[34m15\u001b[39m\n",
      "\u001b[36m──\u001b[39m \u001b[1mColumn specification\u001b[22m \u001b[36m────────────────────────────────────────────────────────────────────────────────────────────────\u001b[39m\n",
      "\u001b[1mDelimiter:\u001b[22m \",\"\n",
      "\u001b[31mchr\u001b[39m (9): X2, X4, X6, X7, X8, X9, X10, X14, X15\n",
      "\u001b[32mdbl\u001b[39m (6): X1, X3, X5, X11, X12, X13\n",
      "\n",
      "\u001b[36mℹ\u001b[39m Use `spec()` to retrieve the full column specification for this data.\n",
      "\u001b[36mℹ\u001b[39m Specify the column types or set `show_col_types = FALSE` to quiet this message.\n"
     ]
    }
   ],
   "source": [
    "# >>> Define paths to repository and data folder <<< #\n",
    "repo_path  <- \"https://raw.githubusercontent.com/fuminaba/STAT-301\"\n",
    "data_parent_path <- \"/fuminaba-project/Data\"\n",
    "\n",
    "# >>> Load Training and Testing Data <<< #\n",
    "data.train <- paste0(repo_path, data_parent_path, \"/adult.data\")  %>% \n",
    "    read_csv(col_names = F)\n",
    "data.test  <- paste0(repo_path, data_parent_path, '/adult.test') %>% \n",
    "    read_csv(col_names = F, skip = 1)\n",
    "\n",
    "# >>> Define feature names and rename columns <<< #\n",
    "feature_names <- c('age', 'workclass', 'fnlwgt', 'education',\n",
    "                   'education-num', 'marital-status', 'occupation',\n",
    "                   'relationship', 'race', 'sex', 'capital-gain', \n",
    "                   'capital-loss', 'hours-per-week', 'native-country',\n",
    "                   'income')\n",
    "\n",
    "names(data.train) <- feature_names\n",
    "names(data.test) <- feature_names\n",
    "\n",
    "# >>> For EDA, we will combine train and test data <<< #\n",
    "data.all <- rbind(data.train, data.test)"
   ]
  },
  {
   "cell_type": "code",
   "execution_count": 3,
   "metadata": {
    "editable": true,
    "slideshow": {
     "slide_type": ""
    },
    "tags": [
     "no_output"
    ],
    "vscode": {
     "languageId": "r"
    }
   },
   "outputs": [
    {
     "name": "stderr",
     "output_type": "stream",
     "text": [
      "\n",
      "\n",
      "processing file: report.rmd\n",
      "\n"
     ]
    },
    {
     "name": "stdout",
     "output_type": "stream",
     "text": [
      "1/42                                 \n",
      "2/42 [global_options]                \n",
      "3/42                                 \n",
      "4/42 [introduce]                     \n",
      "5/42                                 \n",
      "6/42 [plot_intro]                    \n",
      "7/42                                 \n",
      "8/42 [data_structure]                \n",
      "9/42                                 \n",
      "10/42 [missing_profile]               \n",
      "11/42                                 \n",
      "12/42 [univariate_distribution_header]\n",
      "13/42                                 \n",
      "14/42 [plot_histogram]                \n",
      "15/42                                 \n",
      "16/42 [plot_density]                  \n",
      "17/42                                 \n",
      "18/42 [plot_frequency_bar]            \n",
      "19/42                                 \n",
      "20/42 [plot_response_bar]             \n",
      "21/42                                 \n",
      "22/42 [plot_with_bar]                 \n",
      "23/42                                 \n",
      "24/42 [plot_normal_qq]                \n",
      "25/42                                 \n",
      "26/42 [plot_response_qq]              \n",
      "27/42                                 \n",
      "28/42 [plot_by_qq]                    \n",
      "29/42                                 \n",
      "30/42 [correlation_analysis]          \n",
      "31/42                                 \n",
      "32/42 [principal_component_analysis]  \n",
      "33/42                                 \n",
      "34/42 [bivariate_distribution_header] \n",
      "35/42                                 \n",
      "36/42 [plot_response_boxplot]         \n",
      "37/42                                 \n",
      "38/42 [plot_by_boxplot]               \n",
      "39/42                                 \n",
      "40/42 [plot_response_scatterplot]     \n",
      "41/42                                 \n",
      "42/42 [plot_by_scatterplot]           \n"
     ]
    },
    {
     "name": "stderr",
     "output_type": "stream",
     "text": [
      "output file: D:/Fumi/STAT-301/2-EDA-and-Visualization/report.knit.md\n",
      "\n",
      "\n"
     ]
    },
    {
     "name": "stdout",
     "output_type": "stream",
     "text": [
      "\"C:/Users/finaba/AppData/Local/ANACON~1/Library/bin/pandoc\" +RTS -K512m -RTS \"D:\\Fumi\\STAT-301\\2-EDA-and-Visualization\\report.knit.md\" --to html4 --from markdown+autolink_bare_uris+tex_math_single_backslash --output pandoc151470c42a12.html --lua-filter \"C:\\Users\\finaba\\AppData\\Local\\Programs\\R\\R-4.2.3\\library\\rmarkdown\\rmarkdown\\lua\\pagebreak.lua\" --lua-filter \"C:\\Users\\finaba\\AppData\\Local\\Programs\\R\\R-4.2.3\\library\\rmarkdown\\rmarkdown\\lua\\latex-div.lua\" --embed-resources --standalone --variable bs3=TRUE --section-divs --table-of-contents --toc-depth 6 --template \"C:\\Users\\finaba\\AppData\\Local\\Programs\\R\\R-4.2.3\\library\\rmarkdown\\rmd\\h\\default.html\" --no-highlight --variable highlightjs=1 --variable theme=yeti --mathjax --variable \"mathjax-url=https://mathjax.rstudio.com/latest/MathJax.js?config=TeX-AMS-MML_HTMLorMML\" --include-in-header \"C:\\Users\\finaba\\AppData\\Local\\Temp\\RtmpgXuYrv\\rmarkdown-str15147e9d1da4.html\" \n"
     ]
    },
    {
     "name": "stderr",
     "output_type": "stream",
     "text": [
      "\n",
      "Output created: report.html\n",
      "\n"
     ]
    }
   ],
   "source": [
    "DataExplorer::create_report(data = data.all);"
   ]
  },
  {
   "cell_type": "code",
   "execution_count": null,
   "metadata": {
    "editable": true,
    "slideshow": {
     "slide_type": ""
    },
    "tags": [],
    "vscode": {
     "languageId": "r"
    }
   },
   "outputs": [],
   "source": []
  }
 ],
 "metadata": {
  "kernelspec": {
   "display_name": "R",
   "language": "R",
   "name": "ir"
  },
  "language_info": {
   "codemirror_mode": "r",
   "file_extension": ".r",
   "mimetype": "text/x-r-source",
   "name": "R",
   "pygments_lexer": "r",
   "version": "4.2.3"
  }
 },
 "nbformat": 4,
 "nbformat_minor": 4
}
