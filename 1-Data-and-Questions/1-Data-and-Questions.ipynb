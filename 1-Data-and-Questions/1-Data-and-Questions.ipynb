{
 "cells": [
  {
   "cell_type": "markdown",
   "metadata": {},
   "source": [
    "# Data and Questions for the Project"
   ]
  },
  {
   "cell_type": "markdown",
   "metadata": {},
   "source": [
    "## Objective\n",
    "The objective of this project is to predict whether a person makes an annual income over $50,000 a year, or <= $50,000 a year. "
   ]
  },
  {
   "cell_type": "markdown",
   "metadata": {},
   "source": [
    "## Dataset Metadata \n",
    "The dataset that is used in this project is known as the `Census Income` dataset, a dataset to predict whether an individual makes over $50,000 per year. This dataset was donated on April 30, 1996 to the [UC Irvine Machine Learning Repository](https://archive.ics.uci.edu/dataset/2/adult). The data was extracted by Barry Becker from the 1994 Census database according to some criterion.   \n",
    "\n",
    "The dataset has 15 variables including the target variable. \n",
    "| Variable Name | Description | Type of Variable | \n",
    "| --- | --- | --- | \n",
    "| `age` | Age of individual | Feature, Integer | \n",
    "| `workclass` | Categorical variable describing individuals' working class | Feature, Categorical | \n",
    "| `fnlwgt` | Unknown | Feature, Integer | \n",
    "| `education` | Describes the education level of an individual | Feature, Categorical | \n",
    "| `education-num` | Numerical description of education level | Feature, Integer | \n",
    "| `marital-status` | Married, not-married etc. of the individual | Feature, Categorical | \n",
    "| `occupation` | General description of individuals' job | Feature, Categorical | \n",
    "| `relationship` | Relationship status of individual | Feature, Categorical | \n",
    "| `race` | Race of individual | Feature, Categorical | \n",
    "| `sex` | Sex of individual | Feature, Categorical | \n",
    "| `capital-gain` | Capital gain of individual | Feature, Integer | \n",
    "| `capital-loss` | Capital loss of an individual | Feature, Integer | \n",
    "| `hours-per-week` | Hours worked per week | Feature, Integer | \n",
    "| `native-country` | Native country of individual | Feature, Categorical | \n",
    "| `income` | Binary >50K or <=50K income | Target, Categorical | \n",
    "\n",
    "Further detailed description is available at the [dataset link](https://archive.ics.uci.edu/dataset/2/adult)\n",
    "\n",
    "There are a variety of variables, some of which may be redundant. For instance, `education` is a categorical feature to describe the education level, whereas `education-num` is an integer which also describes the education level. There is likely a need to perform a feature-selection process. \n",
    "\n",
    "Some variables that seem to be most helpful at the moment are features such as `hours-per-week`, `capital-gain`, `capital-loss` since a person's annual income is a function of the monetary rate and hours worked. However, monetary rate (hourly wage for example) does not seem to be included as a feature. "
   ]
  },
  {
   "cell_type": "markdown",
   "metadata": {},
   "source": [
    "## Data Characterization "
   ]
  },
  {
   "cell_type": "code",
   "execution_count": 3,
   "metadata": {
    "vscode": {
     "languageId": "r"
    }
   },
   "outputs": [],
   "source": [
    "library(tidyverse)\n",
    "\n",
    "current_filepath <- \"T:/BCCRC-IO/iostudies/Courses/STAT-301/STAT-301\"\n",
    "setwd(current_filepath)\n",
    "\n",
    "income.data.train <- paste0(current_filepath, \"/Data/adult.data\") %>% \n",
    "    read.csv(header = FALSE)\n",
    "income.data.test <- paste0(current_filepath, \"/Data/adult.test\") %>% \n",
    "    read.csv(header = FALSE, skip=1)\n",
    "\n",
    "feature_names <- c('age', 'workclass', 'fnlwgt', 'education',\n",
    "                   'education-num', 'marital-status', 'occupation',\n",
    "                   'relationship', 'race', 'sex', 'capital-gain', \n",
    "                   'capital-loss', 'hours-per-week', 'native-country',\n",
    "                   'income')\n",
    "names(income.data.train) <- feature_names\n",
    "names(income.data.test) <- feature_names\n",
    "\n",
    "income.data.all <- rbind(income.data.train, income.data.test)"
   ]
  },
  {
   "cell_type": "markdown",
   "metadata": {},
   "source": [
    "All missing data seem to be encoded using the ` ?` character. Thus, after some processing (converting ` ?` to `NA`), `DataExplorer::create_report()` function will be used to characterize the basics of the data. "
   ]
  },
  {
   "cell_type": "code",
   "execution_count": 5,
   "metadata": {
    "vscode": {
     "languageId": "r"
    }
   },
   "outputs": [],
   "source": [
    "income.data.all[income.data.all == ' ?'] <- NA\n",
    "income.data.train[income.data.train == ' ?'] <- NA\n",
    "income.data.test[income.data.test == ' ?'] <- NA\n",
    "\n",
    "# >>> Standard characteristics about data <<< #\n",
    "# DataExplorer::create_report(income.data.all, \n",
    "#                             output_file = \"data-report-all.html\", \n",
    "#                             output_dir = paste0(getwd(), \"/Data-Reports/\"))\n",
    "# DataExplorer::create_report(income.data.train, \n",
    "#                             output_file = \"data-report-train.html\",\n",
    "#                             output_dir = paste0(getwd(), \"/Data-Reports/\"))\n",
    "# DataExplorer::create_report(income.data.test, \n",
    "#                             output_file = \"data-report-test.html\",\n",
    "#                             output_dir = paste0(getwd(), \"/Data-Reports/\"))"
   ]
  },
  {
   "cell_type": "markdown",
   "metadata": {},
   "source": [
    "**NOTE** `DataExplorer::create_report` does not work on Jupyter, but on RStudio."
   ]
  },
  {
   "cell_type": "markdown",
   "metadata": {},
   "source": [
    "We've created a simple data report for the `train`, `test` and `all` (`train` and `test` put together). \n",
    "From these, we get a simple characterization of the data: \n",
    "* 40% of the features are **continuous**\n",
    "* 60% of the features are **descrete** or **categorical**\n",
    "* Missing data occurs in the `occupation`, `workclass` and `native-country` features. \n",
    "Generally, missing data may be removed or imputed according to some criterion. In this case, I believe that the fact that this data is missing is informative in and of itself, thus the \" ?\" value will be kept. "
   ]
  },
  {
   "cell_type": "markdown",
   "metadata": {},
   "source": [
    "\n",
    "## Question \n",
    "The question that will be answered in this project is: \n",
    "> What features in the census data from 1994 are most important in predicting whether an individual in the United States makes >$50,000 or <= $50,000 per year?\n",
    "\n",
    "Using the variables explained in the previous section, we will determine which of the features are most important in predicting the income status of individuals in the United States. \n",
    "\n",
    "Because the income of an individual is a function of a variety of things (such as hourly rate, number of hours worked, which are functions of things like education etc.) Because most of the data is categorical in nature (before feature selection) the prediction will likely be a result of complex interactions between the many categorical features. "
   ]
  }
 ],
 "metadata": {
  "kernelspec": {
   "display_name": "R",
   "language": "R",
   "name": "ir"
  },
  "language_info": {
   "codemirror_mode": "r",
   "file_extension": ".r",
   "mimetype": "text/x-r-source",
   "name": "R",
   "pygments_lexer": "r",
   "version": "4.2.3"
  }
 },
 "nbformat": 4,
 "nbformat_minor": 2
}
